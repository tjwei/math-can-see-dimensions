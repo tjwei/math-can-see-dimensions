{
 "cells": [
  {
   "cell_type": "code",
   "execution_count": null,
   "metadata": {
    "collapsed": false,
    "slideshow": {
     "slide_type": "skip"
    }
   },
   "outputs": [],
   "source": [
    "from local_utils import *\n",
    "%pylab inline"
   ]
  },
  {
   "cell_type": "markdown",
   "metadata": {
    "slideshow": {
     "slide_type": "slide"
    }
   },
   "source": [
    "# 從生活中發現數學： 選擇的智慧\n",
    "\n",
    "\n",
    "\n",
    "\n",
    "##  國立東華大學 應用數學系 魏澤人\n",
    "\n",
    "2015 Nov 27 @師大附中  (MIT License)"
   ]
  },
  {
   "cell_type": "markdown",
   "metadata": {
    "slideshow": {
     "slide_type": "subslide"
    }
   },
   "source": [
    "# $\\swarrow$ 打開$\\|數學\\|$之$\\mathbf{\\widetilde{眼}}$  $\\nearrow$\n",
    "#  ∿  $\\small\\oint$奧義$\\small\\oint$ $\\otimes$ $\\mathbf{次元}^{\\tiny\\infty}$_斬_∿"
   ]
  },
  {
   "cell_type": "markdown",
   "metadata": {
    "slideshow": {
     "slide_type": "-"
    }
   },
   "source": [
    "<center>𝕸𝕬𝕿𝕳 𝕮𝕬𝕹 𝕺𝕰𝕰 𝕯𝕴𝕸𝕰𝕹𝕺𝕴𝕺𝕹𝕺</center>"
   ]
  },
  {
   "cell_type": "markdown",
   "metadata": {
    "slideshow": {
     "slide_type": "fragment"
    }
   },
   "source": [
    "## 從生活中發現數學： 選擇的智慧"
   ]
  },
  {
   "cell_type": "markdown",
   "metadata": {
    "slideshow": {
     "slide_type": "slide"
    }
   },
   "source": [
    "# 小女孩撿石頭的故事 \n",
    "(轉寄信、民間傳說故事)"
   ]
  },
  {
   "cell_type": "markdown",
   "metadata": {
    "slideshow": {
     "slide_type": "subslide"
    }
   },
   "source": [
    "## 據說林肯總統，在郊外散步時，遇到了一個小女孩。他想考驗這個女孩"
   ]
  },
  {
   "cell_type": "markdown",
   "metadata": {
    "slideshow": {
     "slide_type": "subslide"
    }
   },
   "source": [
    "## 說：「小朋友，這段路上有很多石頭，妳從這裡走到那頭，撿一個最大的石頭來給我。石頭愈大，禮物就愈大。"
   ]
  },
  {
   "cell_type": "markdown",
   "metadata": {
    "slideshow": {
     "slide_type": "subslide"
    }
   },
   "source": [
    "# But\n",
    "## 絕對不可以回頭撿哦！」"
   ]
  },
  {
   "cell_type": "markdown",
   "metadata": {
    "slideshow": {
     "slide_type": "subslide"
    }
   },
   "source": [
    "### 女孩便出發。\n",
    "### 不多久，看到一粒很大的石頭，想撿，但又想：說不定前面還有更大的呢。\n",
    "### 往前走了一陣，果然看到一粒更大的石頭。正想撿起，又想：「後面說不定還有更大的呢」。\n",
    "### 就這樣猶豫不決，一不注意，便走到了盡頭，什麼也沒撿到。"
   ]
  },
  {
   "cell_type": "markdown",
   "metadata": {
    "slideshow": {
     "slide_type": "subslide"
    }
   },
   "source": [
    "## 很多人把它解釋在愛情上\n",
    "\n",
    "## 小女孩走的這一段路不就好像是我們的人生嗎？\n",
    "\n",
    "## 人生錯過了就再也不能回頭"
   ]
  },
  {
   "cell_type": "markdown",
   "metadata": {
    "slideshow": {
     "slide_type": "subslide"
    }
   },
   "source": [
    "* 用數學之眼，會看到裡面的數學\n",
    "* 舒老師也看到了，等下會講\n",
    "* 選擇的智慧，斬掉這一段"
   ]
  },
  {
   "cell_type": "markdown",
   "metadata": {
    "slideshow": {
     "slide_type": "slide"
    }
   },
   "source": [
    "# 旋轉"
   ]
  },
  {
   "cell_type": "code",
   "execution_count": null,
   "metadata": {
    "collapsed": false,
    "slideshow": {
     "slide_type": "-"
    }
   },
   "outputs": [],
   "source": [
    "!./rungeogebra"
   ]
  },
  {
   "cell_type": "markdown",
   "metadata": {
    "slideshow": {
     "slide_type": "subslide"
    }
   },
   "source": [
    "## 你的數學書在吶喊著："
   ]
  },
  {
   "cell_type": "markdown",
   "metadata": {
    "slideshow": {
     "slide_type": "fragment"
    }
   },
   "source": [
    "## 換個角度來看世界吧！"
   ]
  },
  {
   "cell_type": "markdown",
   "metadata": {
    "slideshow": {
     "slide_type": "fragment"
    }
   },
   "source": [
    "## 真相藏在背後的次元"
   ]
  },
  {
   "cell_type": "markdown",
   "metadata": {
    "collapsed": true,
    "slideshow": {
     "slide_type": "slide"
    }
   },
   "source": [
    "# 照片是怎麼壓縮成 JPEG 的?"
   ]
  },
  {
   "cell_type": "markdown",
   "metadata": {
    "slideshow": {
     "slide_type": "subslide"
    }
   },
   "source": [
    "## \"JPEG is alien technology from the future\".\n",
    "###                  --   Tim Terriberry "
   ]
  },
  {
   "cell_type": "markdown",
   "metadata": {
    "slideshow": {
     "slide_type": "subslide"
    }
   },
   "source": [
    "<video src=\"video/jpeg-split.webm\" controls width=900 /> "
   ]
  },
  {
   "cell_type": "code",
   "execution_count": null,
   "metadata": {
    "collapsed": false,
    "slideshow": {
     "slide_type": "subslide"
    }
   },
   "outputs": [],
   "source": [
    "show_dct_fig()"
   ]
  },
  {
   "cell_type": "markdown",
   "metadata": {
    "slideshow": {
     "slide_type": "subslide"
    }
   },
   "source": [
    "<img src=\"img/Dctjpeg.png\" width=\"600\"/>"
   ]
  },
  {
   "cell_type": "code",
   "execution_count": null,
   "metadata": {
    "collapsed": false,
    "slideshow": {
     "slide_type": "subslide"
    }
   },
   "outputs": [],
   "source": [
    "img = mpimg.imread('img/abel.jpg'); plt.imshow(img, cmap=mpl.cm.gray);"
   ]
  },
  {
   "cell_type": "code",
   "execution_count": null,
   "metadata": {
    "collapsed": false,
    "slideshow": {
     "slide_type": "subslide"
    }
   },
   "outputs": [],
   "source": [
    "show_image(img)"
   ]
  },
  {
   "cell_type": "code",
   "execution_count": null,
   "metadata": {
    "collapsed": false,
    "slideshow": {
     "slide_type": "subslide"
    }
   },
   "outputs": [],
   "source": [
    "tiny = img[40:48, 64:72];show_image(tiny)"
   ]
  },
  {
   "cell_type": "markdown",
   "metadata": {
    "slideshow": {
     "slide_type": "slide"
    }
   },
   "source": [
    "$$ G = {DCT} \\cdot f \\cdot {DCT}^{T} $$\n",
    "$$ f = {DCT}^T \\cdot G \\cdot {DCT} $$"
   ]
  },
  {
   "cell_type": "code",
   "execution_count": null,
   "metadata": {
    "collapsed": false,
    "slideshow": {
     "slide_type": "subslide"
    }
   },
   "outputs": [],
   "source": [
    "show_image(undoDCT(doDCT(tiny)))"
   ]
  },
  {
   "cell_type": "code",
   "execution_count": null,
   "metadata": {
    "collapsed": false,
    "slideshow": {
     "slide_type": "subslide"
    }
   },
   "outputs": [],
   "source": [
    "tinyDCT = doDCT(tiny);show_image(tinyDCT)"
   ]
  },
  {
   "cell_type": "code",
   "execution_count": null,
   "metadata": {
    "collapsed": false,
    "slideshow": {
     "slide_type": "subslide"
    }
   },
   "outputs": [],
   "source": [
    "tinyDCT_chopped = chopped(tinyDCT, level=7);show_image(tinyDCT_chopped, \"none\")"
   ]
  },
  {
   "cell_type": "code",
   "execution_count": null,
   "metadata": {
    "collapsed": false,
    "slideshow": {
     "slide_type": "subslide"
    }
   },
   "outputs": [],
   "source": [
    "show_image(undoDCT(tinyDCT_chopped))"
   ]
  },
  {
   "cell_type": "code",
   "execution_count": null,
   "metadata": {
    "collapsed": false,
    "slideshow": {
     "slide_type": "subslide"
    }
   },
   "outputs": [],
   "source": [
    "figure(figsize=(12,36))\n",
    "for u in range(12):\n",
    "    subplot(6, 2, u+1)\n",
    "    title(str(u))\n",
    "    imshow(dct_all(img, u), cmap=mpl.cm.gray, interpolation=\"none\")"
   ]
  },
  {
   "cell_type": "markdown",
   "metadata": {
    "slideshow": {
     "slide_type": "slide"
    }
   },
   "source": [
    "# Hybrid Image\n",
    "A. Oliva, A. Torralba, P.G. Schyns (2006). Hybrid Images. ACM Transactions on Graphics, ACM Siggraph, 25-3, 527-530."
   ]
  },
  {
   "cell_type": "markdown",
   "metadata": {
    "slideshow": {
     "slide_type": "subslide"
    }
   },
   "source": [
    "<img src=\"img/hybrid-me.png\" />"
   ]
  },
  {
   "cell_type": "markdown",
   "metadata": {
    "slideshow": {
     "slide_type": "subslide"
    }
   },
   "source": [
    "<img src=\"img/e-highpass.png\" />"
   ]
  },
  {
   "cell_type": "markdown",
   "metadata": {
    "slideshow": {
     "slide_type": "subslide"
    }
   },
   "source": [
    "<img src=\"img/m-lowpass.png\" />"
   ]
  },
  {
   "cell_type": "markdown",
   "metadata": {
    "slideshow": {
     "slide_type": "subslide"
    }
   },
   "source": [
    "<img src=\"img/醫科.png\" />"
   ]
  },
  {
   "cell_type": "markdown",
   "metadata": {
    "slideshow": {
     "slide_type": "slide"
    }
   },
   "source": [
    "# Art Style Transfer\n",
    "A Neural Algorithm of Artistic Style\" by Gatys, Ecker and Bethge. (26 Aug 2015)\n",
    "\n",
    "http://arxiv.org/abs/1508.06576, http://arxiv.org/abs/1505.07376, http://bethgelab.org/deepneuralart/."
   ]
  },
  {
   "cell_type": "markdown",
   "metadata": {
    "slideshow": {
     "slide_type": "subslide"
    }
   },
   "source": [
    "<img src=\"img/ndhu.jpg\" width=700 />"
   ]
  },
  {
   "cell_type": "markdown",
   "metadata": {
    "slideshow": {
     "slide_type": "subslide"
    }
   },
   "source": [
    "<img src=\"img/starry_night.jpg\" width=700 />"
   ]
  },
  {
   "cell_type": "markdown",
   "metadata": {
    "slideshow": {
     "slide_type": "subslide"
    }
   },
   "source": [
    "<img src=\"img/ndhu-starry.png\" width=700 />"
   ]
  },
  {
   "cell_type": "markdown",
   "metadata": {
    "slideshow": {
     "slide_type": "subslide"
    }
   },
   "source": [
    "<img src=\"img/skrik.jpg\" />"
   ]
  },
  {
   "cell_type": "markdown",
   "metadata": {
    "slideshow": {
     "slide_type": "subslide"
    }
   },
   "source": [
    "<img src=\"img/ndhu-skrik.png\" width=700 />"
   ]
  },
  {
   "cell_type": "markdown",
   "metadata": {
    "slideshow": {
     "slide_type": "subslide"
    }
   },
   "source": [
    "<img src=\"img/tjw-simpsons.png\" />"
   ]
  },
  {
   "cell_type": "markdown",
   "metadata": {
    "slideshow": {
     "slide_type": "slide"
    }
   },
   "source": [
    "# 乘法"
   ]
  },
  {
   "cell_type": "markdown",
   "metadata": {
    "slideshow": {
     "slide_type": "subslide"
    }
   },
   "source": [
    "<video src=\"video/mul.webm\" controls width=800 /> "
   ]
  },
  {
   "cell_type": "markdown",
   "metadata": {
    "slideshow": {
     "slide_type": "subslide"
    }
   },
   "source": [
    "# $53 \\times 78$\n",
    "## $ 5 \\cdot 7  $\n",
    "## $ 5 \\cdot 8 + 3 \\cdot 7  $\n",
    "## $ 3 \\cdot 8 $"
   ]
  },
  {
   "cell_type": "markdown",
   "metadata": {
    "slideshow": {
     "slide_type": "subslide"
    }
   },
   "source": [
    "# Karatsuba algorithm"
   ]
  },
  {
   "cell_type": "markdown",
   "metadata": {
    "slideshow": {
     "slide_type": "subslide"
    }
   },
   "source": [
    "# $53 \\times 78$\n",
    "## $ A = 5 \\cdot 7  $\n",
    "## $ B = 3 \\cdot 8 $\n",
    "## $ C = (5+3)\\cdot(7+8)$\n",
    "## $ 5 \\cdot 8 + 3 \\cdot 7 = C - A -B $ "
   ]
  },
  {
   "cell_type": "markdown",
   "metadata": {
    "slideshow": {
     "slide_type": "subslide"
    }
   },
   "source": [
    "# $5321 \\times 7894$\n",
    "## $ A = 53 \\cdot 78  $\n",
    "## $ B = 21 \\cdot 94 $\n",
    "## $ C = (53+21)\\cdot(78+94)$\n",
    "## $ 53 \\cdot 94 + 21 \\cdot 78 = C - A - B $ "
   ]
  },
  {
   "cell_type": "markdown",
   "metadata": {
    "slideshow": {
     "slide_type": "subslide"
    }
   },
   "source": [
    "# Toom–Cook"
   ]
  },
  {
   "cell_type": "markdown",
   "metadata": {
    "slideshow": {
     "slide_type": "subslide"
    }
   },
   "source": [
    "# $ 352 \\times 516 $\n",
    "## 只要 5 次乘法"
   ]
  },
  {
   "cell_type": "markdown",
   "metadata": {
    "slideshow": {
     "slide_type": "subslide"
    }
   },
   "source": [
    "# $ 352 \\times 516 $\n",
    "## $p(x) = 3x^2 + 5x + 2 $\n",
    "## $q(x) = 5x^2 + 1x + 6 $\n",
    "## 我們想求 $ p(10)q(10) $ "
   ]
  },
  {
   "cell_type": "markdown",
   "metadata": {
    "slideshow": {
     "slide_type": "subslide"
    }
   },
   "source": [
    "## $ r(x) = p(x)q(x) $ 是 4 次多項式\n",
    "## 代入5 個值就能決定係數"
   ]
  },
  {
   "cell_type": "markdown",
   "metadata": {
    "slideshow": {
     "slide_type": "subslide"
    }
   },
   "source": [
    "$\\left(\\begin{matrix}p(0)\\\\\n",
    "p(1)\\\\\n",
    "p(-1)\\\\\n",
    "p(-2)\\\\\n",
    "p(\\infty)\n",
    "\\end{matrix}\\right)=\\left(\\begin{matrix}0 & 0 & 1\\\\\n",
    "1 & 1 & 1\\\\\n",
    "1 & -1 & 1\\\\\n",
    "4 & -2 & 1\\\\\n",
    "1 & 0 & 0\n",
    "\\end{matrix}\\right)\\left(\\begin{matrix}3\\\\\n",
    "5\\\\\n",
    "2\n",
    "\\end{matrix}\\right)$"
   ]
  },
  {
   "cell_type": "markdown",
   "metadata": {
    "slideshow": {
     "slide_type": "subslide"
    }
   },
   "source": [
    "$\\left(\\begin{matrix}q(0)\\\\\n",
    "q(1)\\\\\n",
    "q(-1)\\\\\n",
    "q(-2)\\\\\n",
    "q(\\infty)\n",
    "\\end{matrix}\\right)=\\left(\\begin{matrix}0 & 0 & 1\\\\\n",
    "1 & 1 & 1\\\\\n",
    "1 & -1 & 1\\\\\n",
    "4 & -2 & 1\\\\\n",
    "1 & 0 & 0\n",
    "\\end{matrix}\\right)\\left(\\begin{matrix}5\\\\\n",
    "1\\\\\n",
    "6\n",
    "\\end{matrix}\\right)$"
   ]
  },
  {
   "cell_type": "markdown",
   "metadata": {
    "slideshow": {
     "slide_type": "subslide"
    }
   },
   "source": [
    "\n",
    "$\\left(\\begin{matrix}r(0)\\\\\n",
    "r(1)\\\\\n",
    "r(-1)\\\\\n",
    "r(-2)\\\\\n",
    "r(\\infty)\n",
    "\\end{matrix}\\right)=\\left(\\begin{matrix}p(0)q(0)\\\\\n",
    "p(1)q(1)\\\\\n",
    "p(-1)q(-1)\\\\\n",
    "p(-2)q(-2)\\\\\n",
    "p(\\infty)q(\\infty)\n",
    "\\end{matrix}\\right).$"
   ]
  },
  {
   "cell_type": "markdown",
   "metadata": {
    "slideshow": {
     "slide_type": "subslide"
    }
   },
   "source": [
    "$\\left(\\begin{matrix}r(0)\\\\\n",
    "r(1)\\\\\n",
    "r(-1)\\\\\n",
    "r(-2)\\\\\n",
    "r(\\infty)\n",
    "\\end{matrix}\\right)=\\left(\\begin{matrix}0 & 0 & 0 & 0 & 1\\\\\n",
    "1 & 1 & 1 & 1 & 1\\\\\n",
    "1 & -1 & 1 & -1 & 1\\\\\n",
    "16 & -8 & 4 & -1 & 1\\\\\n",
    "1 & 0 & 0 & 0 & 0\n",
    "\\end{matrix}\\right)\\left(\\begin{matrix}?\\\\\n",
    "?\\\\\n",
    "?\\\\\n",
    "?\\\\\n",
    "?\n",
    "\\end{matrix}\\right).$"
   ]
  },
  {
   "cell_type": "markdown",
   "metadata": {
    "slideshow": {
     "slide_type": "subslide"
    }
   },
   "source": [
    "* 原來是交叉相乘(covolution)\n",
    "* 經由座標變換\n",
    "* 變成逐點相乘\n",
    "* 再轉換回來即可"
   ]
  },
  {
   "cell_type": "markdown",
   "metadata": {
    "slideshow": {
     "slide_type": "subslide"
    }
   },
   "source": [
    "# Schönhage–Strassen "
   ]
  },
  {
   "cell_type": "code",
   "execution_count": null,
   "metadata": {
    "collapsed": false,
    "slideshow": {
     "slide_type": "subslide"
    }
   },
   "outputs": [],
   "source": [
    "show_dct_fig()"
   ]
  },
  {
   "cell_type": "markdown",
   "metadata": {
    "slideshow": {
     "slide_type": "slide"
    }
   },
   "source": [
    "# 更多更多"
   ]
  },
  {
   "cell_type": "markdown",
   "metadata": {
    "slideshow": {
     "slide_type": "subslide"
    }
   },
   "source": [
    "# word2vec\n",
    "\n",
    "### King - Man + Woman = Queen"
   ]
  },
  {
   "cell_type": "code",
   "execution_count": null,
   "metadata": {
    "collapsed": false,
    "slideshow": {
     "slide_type": "subslide"
    }
   },
   "outputs": [],
   "source": [
    "w('掌法')"
   ]
  },
  {
   "cell_type": "code",
   "execution_count": null,
   "metadata": {
    "collapsed": false,
    "scrolled": true,
    "slideshow": {
     "slide_type": "subslide"
    }
   },
   "outputs": [],
   "source": [
    "w('蛤蟆功')-w('歐陽鋒')+ w('洪七公')"
   ]
  },
  {
   "cell_type": "code",
   "execution_count": null,
   "metadata": {
    "collapsed": false,
    "slideshow": {
     "slide_type": "-"
    }
   },
   "outputs": [],
   "source": [
    "w(\"華箏\")-w(\"郭靖\") + w(\"周師兄\")"
   ]
  },
  {
   "cell_type": "code",
   "execution_count": null,
   "metadata": {
    "collapsed": false
   },
   "outputs": [],
   "source": [
    "w('丘處機') + (w('鐵杖')-w(\"柯鎮惡\"))"
   ]
  },
  {
   "cell_type": "code",
   "execution_count": null,
   "metadata": {
    "collapsed": false
   },
   "outputs": [],
   "source": [
    "w(\"鐵掌\") + (w('周伯通')-w(\"空明拳\"))"
   ]
  },
  {
   "cell_type": "code",
   "execution_count": null,
   "metadata": {
    "collapsed": false
   },
   "outputs": [],
   "source": [
    "w('降龍十八掌')-w(\"郭靖\")"
   ]
  },
  {
   "cell_type": "code",
   "execution_count": null,
   "metadata": {
    "collapsed": false
   },
   "outputs": [],
   "source": [
    "w(\"飯\")-w(\"吃\")+w(\"喝\")"
   ]
  },
  {
   "cell_type": "markdown",
   "metadata": {
    "slideshow": {
     "slide_type": "subslide"
    }
   },
   "source": [
    "<img src=\"img/faces_arithmetic_collage.png\" />"
   ]
  },
  {
   "cell_type": "markdown",
   "metadata": {
    "slideshow": {
     "slide_type": "-"
    }
   },
   "source": [
    "Unsupervised Representation Learning with Deep Convolutional Generative Adversarial Networks\n",
    "\n",
    "\n",
    "Alec Radford, Luke Metz, Soumith Chintala\n",
    "\n",
    "\n",
    "Nov 19 2015"
   ]
  },
  {
   "cell_type": "markdown",
   "metadata": {
    "slideshow": {
     "slide_type": "subslide"
    }
   },
   "source": [
    "### 編碼\n",
    "* 一千瓶酒和 10 隻小老鼠\n",
    "* 一千瓶酒和 30 隻小老鼠\n",
    "* 霍夫曼編碼(壓縮)\n",
    "* Entropy\n",
    "* 如果老鼠會騙人?\n",
    "    * 一千瓶酒和 30 隻小老鼠(again?)\n",
    "    * 一千瓶酒和 14 隻小老鼠"
   ]
  },
  {
   "cell_type": "markdown",
   "metadata": {
    "slideshow": {
     "slide_type": "slide"
    }
   },
   "source": [
    "\n",
    "### 世界充滿著「魔法」\n",
    "### 打開數學之眼\n",
    "### 世界變得更大"
   ]
  },
  {
   "cell_type": "markdown",
   "metadata": {
    "slideshow": {
     "slide_type": "slide"
    }
   },
   "source": [
    "### Credit\n",
    "* 許多圖片素材來自 http://OpenClipart.org 的 CC0 授權圖片\n",
    "* Public Domain 圖片\n",
    "    * https://en.wikipedia.org/wiki/Niels_Henrik_Abel#/media/File:Niels_Henrik_Abel.jpg\n",
    "    * https://en.wikipedia.org/wiki/Hybrid_image#/media/File:Hybrid_image_decomposition.jpg\n",
    "    *  https://en.wikipedia.org/wiki/File:Dctjpeg.png\n",
    "    * https://commons.wikimedia.org/wiki/File:Monroe_holding_hammer_in_The_Seven_Year_Itch_trailer_2.jpg\n",
    "    * http://astro-canada.ca/_en/photo690.php?a3500_einstein1\n",
    "* DCT 部份源自 http://cs.marlboro.edu/courses/spring2014/information/code/dct/dct.html (The MIT License)\n",
    "* https://github.com/andersbll/neural_artistic_style (The MIT License)\n",
    "* https://github.com/Newmu/dcgan_code/ (The MIT License)\n",
    "* 東華大學照片 [by Ming Wei Wang CC-BY-SA 4.0](https://www.flickr.com/photos/5437ming/2245719753/in/photolist-hg5Lss-hg6jaU-hg5QdT-hg68eY-hg67fd-hg63YJ-hg5SKh-hg6WUz-hg6TKP-hg62SV-hg5ZN4-hg6VRT-hg5SxS-hg66h1-4wJDrY-z77Q7-hg63zA-hg5X7y-hg6915-hg72jX-hg6XVT-z775g-z78d7-z77zN-z77f1-hm5ARv-hhTYcX-hxnbvP-4qvZw9-h7yWGn-4qrUf6-oZwjnc-6omfZ2-6omfXc-6omfUk-6oqs67-6oqs39-6omfLn-6omfHt-9RUteS-6omfF4-6omfCv-6oqrPJ-6omfxK-eDpa4R-eDvhBm-eDvhGG-eDvhBh-eDvhBS-WVM5v)\n",
    "\n"
   ]
  }
 ],
 "metadata": {
  "celltoolbar": "Slideshow",
  "kernelspec": {
   "display_name": "Python 3",
   "language": "python",
   "name": "python3"
  },
  "language_info": {
   "codemirror_mode": {
    "name": "ipython",
    "version": 3
   },
   "file_extension": ".py",
   "mimetype": "text/x-python",
   "name": "python",
   "nbconvert_exporter": "python",
   "pygments_lexer": "ipython3",
   "version": "3.4.3"
  }
 },
 "nbformat": 4,
 "nbformat_minor": 0
}
