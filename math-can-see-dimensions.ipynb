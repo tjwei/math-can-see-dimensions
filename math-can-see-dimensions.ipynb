{
 "cells": [
  {
   "cell_type": "markdown",
   "metadata": {
    "slideshow": {
     "slide_type": "slide"
    }
   },
   "source": [
    "# 從生活中發現數學： 選擇的智慧\n",
    "\n",
    "\n",
    "\n",
    "\n",
    "##  國立東華大學 應用數學系 魏澤人"
   ]
  },
  {
   "cell_type": "markdown",
   "metadata": {
    "slideshow": {
     "slide_type": "subslide"
    }
   },
   "source": [
    "\n",
    "# $\\nearrow$ 打開$\\|數學\\|$之$\\mathbf{\\widetilde{眼}}$  $\\nearrow$\n",
    "#  ∿  $\\oint$奧義$\\oint$ $\\otimes$ $\\mathbf{次元}^{\\tiny\\infty}$_斬_∿\n",
    "\n",
    "\n",
    "<center>𝕸𝕬𝕿𝕳 𝕮𝕬𝕹 𝕺𝕰𝕰 𝕯𝕴𝕸𝕰𝕹𝕺𝕴𝕺𝕹𝕺</center>"
   ]
  },
  {
   "cell_type": "markdown",
   "metadata": {
    "slideshow": {
     "slide_type": "fragment"
    }
   },
   "source": [
    "## 從生活中發現數學： 選擇的智慧"
   ]
  },
  {
   "cell_type": "markdown",
   "metadata": {
    "slideshow": {
     "slide_type": "slide"
    }
   },
   "source": [
    "# 小女孩撿石頭的故事"
   ]
  },
  {
   "cell_type": "markdown",
   "metadata": {
    "slideshow": {
     "slide_type": "subslide"
    }
   },
   "source": [
    "## 據說美國的林肯總統，曾經到郊外散步，遇到一個女孩，他想考驗這個女孩"
   ]
  },
  {
   "cell_type": "markdown",
   "metadata": {
    "slideshow": {
     "slide_type": "subslide"
    }
   },
   "source": [
    "## 就跟她說「小朋友，這一段路上有很多石頭，妳從這兒走到那頭，撿一個最大的石頭來給我，撿回來的石頭愈大，禮物就愈大，如果石頭很小，就只能給妳小禮物了，"
   ]
  },
  {
   "cell_type": "markdown",
   "metadata": {
    "slideshow": {
     "slide_type": "subslide"
    }
   },
   "source": [
    "# But\n",
    "## 有個規定，千萬不可以回頭來撿哦！」"
   ]
  },
  {
   "cell_type": "markdown",
   "metadata": {
    "slideshow": {
     "slide_type": "subslide"
    }
   },
   "source": [
    "### 接著，女孩便興奮地出發，走呀走的，女孩看到一粒很大的石頭，正要去撿，可是心想：說不定前面有更大的，於是她又往前走，總算看到一粒更大的石頭，她高興地衝過去把它撿起來，走了幾步，念頭一轉，「後面一定還有更大的」，所以又把石頭丟掉，結果，走著走著，她發現路快走完了，石頭卻愈來愈小，心裡既懊悔又不甘心，一猶豫便走到了盡頭，迎接她的，是一臉笑意的林肯，什麼禮物也沒有…。"
   ]
  },
  {
   "cell_type": "markdown",
   "metadata": {
    "slideshow": {
     "slide_type": "subslide"
    }
   },
   "source": [
    "## 很多人把它解釋在愛情上\n",
    "\n",
    "## 小女孩走的這一段路不就好像是我們的人生嗎？\n",
    "\n",
    "## 人生錯過了就再也不能回頭"
   ]
  },
  {
   "cell_type": "markdown",
   "metadata": {
    "slideshow": {
     "slide_type": "subslide"
    }
   },
   "source": [
    "* 用數學之眼，會看到裡面的數學\n",
    "* 舒老師也看到了，等下會講\n",
    "* 選擇的智慧，斬掉這一段"
   ]
  },
  {
   "cell_type": "markdown",
   "metadata": {
    "slideshow": {
     "slide_type": "slide"
    }
   },
   "source": [
    "# 旋轉"
   ]
  },
  {
   "cell_type": "code",
   "execution_count": 8,
   "metadata": {
    "collapsed": false,
    "slideshow": {
     "slide_type": "-"
    }
   },
   "outputs": [
    {
     "name": "stdout",
     "output_type": "stream",
     "text": [
      "^C\r\n"
     ]
    }
   ],
   "source": [
    "!geogebra sincos.ggb > /dev/null 2>/dev/null\n",
    "!geogebra sec.ggb > /dev/null 2>/dev/null\n",
    "!geogebra tancot.ggb > /dev/null 2>/dev/null"
   ]
  }
 ],
 "metadata": {
  "celltoolbar": "Slideshow",
  "kernelspec": {
   "display_name": "Python 3",
   "language": "python",
   "name": "python3"
  },
  "language_info": {
   "codemirror_mode": {
    "name": "ipython",
    "version": 3
   },
   "file_extension": ".py",
   "mimetype": "text/x-python",
   "name": "python",
   "nbconvert_exporter": "python",
   "pygments_lexer": "ipython3",
   "version": "3.4.3"
  }
 },
 "nbformat": 4,
 "nbformat_minor": 0
}
